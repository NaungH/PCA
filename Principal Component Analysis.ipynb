{
 "cells": [
  {
   "cell_type": "code",
   "execution_count": 3,
   "metadata": {},
   "outputs": [],
   "source": [
    "import numpy as np\n",
    "import pandas as pd\n",
    "import matplotlib.pyplot as plt\n",
    "%matplotlib inline"
   ]
  },
  {
   "cell_type": "markdown",
   "metadata": {},
   "source": [
    "## Read in the data and perform basic exploratory analysis"
   ]
  },
  {
   "cell_type": "code",
   "execution_count": 5,
   "metadata": {},
   "outputs": [
    {
     "data": {
      "text/html": [
       "<div>\n",
       "<style scoped>\n",
       "    .dataframe tbody tr th:only-of-type {\n",
       "        vertical-align: middle;\n",
       "    }\n",
       "\n",
       "    .dataframe tbody tr th {\n",
       "        vertical-align: top;\n",
       "    }\n",
       "\n",
       "    .dataframe thead th {\n",
       "        text-align: right;\n",
       "    }\n",
       "</style>\n",
       "<table border=\"1\" class=\"dataframe\">\n",
       "  <thead>\n",
       "    <tr style=\"text-align: right;\">\n",
       "      <th></th>\n",
       "      <th>Dataset</th>\n",
       "      <th>Temp_up20</th>\n",
       "      <th>Temp_low20</th>\n",
       "      <th>Ox_up20</th>\n",
       "      <th>Ox_low20</th>\n",
       "      <th>kf_up20</th>\n",
       "      <th>kf_low20</th>\n",
       "      <th>d10</th>\n",
       "      <th>dm</th>\n",
       "      <th>d84</th>\n",
       "      <th>Cu</th>\n",
       "      <th>Cc</th>\n",
       "      <th>Por</th>\n",
       "      <th>Fines</th>\n",
       "    </tr>\n",
       "  </thead>\n",
       "  <tbody>\n",
       "    <tr>\n",
       "      <th>0</th>\n",
       "      <td>Dec_19</td>\n",
       "      <td>5.4</td>\n",
       "      <td>5.2</td>\n",
       "      <td>97.0</td>\n",
       "      <td>96.4</td>\n",
       "      <td>0.00592</td>\n",
       "      <td>0.00267</td>\n",
       "      <td>2.9</td>\n",
       "      <td>80.3</td>\n",
       "      <td>98.9</td>\n",
       "      <td>20.1</td>\n",
       "      <td>2.0</td>\n",
       "      <td>18.7</td>\n",
       "      <td>6.0</td>\n",
       "    </tr>\n",
       "    <tr>\n",
       "      <th>1</th>\n",
       "      <td>Dec_19</td>\n",
       "      <td>4.6</td>\n",
       "      <td>5.0</td>\n",
       "      <td>94.9</td>\n",
       "      <td>91.1</td>\n",
       "      <td>0.00727</td>\n",
       "      <td>0.00056</td>\n",
       "      <td>2.0</td>\n",
       "      <td>70.0</td>\n",
       "      <td>84.3</td>\n",
       "      <td>21.0</td>\n",
       "      <td>1.9</td>\n",
       "      <td>18.8</td>\n",
       "      <td>7.4</td>\n",
       "    </tr>\n",
       "    <tr>\n",
       "      <th>2</th>\n",
       "      <td>Dec_19</td>\n",
       "      <td>3.6</td>\n",
       "      <td>4.5</td>\n",
       "      <td>83.3</td>\n",
       "      <td>31.1</td>\n",
       "      <td>0.00295</td>\n",
       "      <td>0.00021</td>\n",
       "      <td>0.4</td>\n",
       "      <td>50.1</td>\n",
       "      <td>94.6</td>\n",
       "      <td>150.6</td>\n",
       "      <td>32.3</td>\n",
       "      <td>17.9</td>\n",
       "      <td>10.5</td>\n",
       "    </tr>\n",
       "    <tr>\n",
       "      <th>3</th>\n",
       "      <td>Dec_19</td>\n",
       "      <td>4.4</td>\n",
       "      <td>4.8</td>\n",
       "      <td>85.5</td>\n",
       "      <td>47.2</td>\n",
       "      <td>0.00561</td>\n",
       "      <td>0.00103</td>\n",
       "      <td>0.5</td>\n",
       "      <td>37.4</td>\n",
       "      <td>62.3</td>\n",
       "      <td>73.9</td>\n",
       "      <td>8.9</td>\n",
       "      <td>13.7</td>\n",
       "      <td>15.2</td>\n",
       "    </tr>\n",
       "    <tr>\n",
       "      <th>4</th>\n",
       "      <td>Dec_19</td>\n",
       "      <td>3.4</td>\n",
       "      <td>4.3</td>\n",
       "      <td>36.1</td>\n",
       "      <td>1.7</td>\n",
       "      <td>0.00222</td>\n",
       "      <td>0.00064</td>\n",
       "      <td>0.9</td>\n",
       "      <td>37.0</td>\n",
       "      <td>69.5</td>\n",
       "      <td>44.0</td>\n",
       "      <td>4.1</td>\n",
       "      <td>16.7</td>\n",
       "      <td>10.3</td>\n",
       "    </tr>\n",
       "    <tr>\n",
       "      <th>5</th>\n",
       "      <td>Mar_20</td>\n",
       "      <td>6.7</td>\n",
       "      <td>6.7</td>\n",
       "      <td>107.5</td>\n",
       "      <td>73.7</td>\n",
       "      <td>0.00061</td>\n",
       "      <td>0.00061</td>\n",
       "      <td>0.5</td>\n",
       "      <td>56.5</td>\n",
       "      <td>99.1</td>\n",
       "      <td>120.4</td>\n",
       "      <td>32.9</td>\n",
       "      <td>16.9</td>\n",
       "      <td>12.8</td>\n",
       "    </tr>\n",
       "    <tr>\n",
       "      <th>6</th>\n",
       "      <td>Mar_20</td>\n",
       "      <td>6.1</td>\n",
       "      <td>6.1</td>\n",
       "      <td>107.7</td>\n",
       "      <td>79.6</td>\n",
       "      <td>0.00481</td>\n",
       "      <td>0.00062</td>\n",
       "      <td>0.9</td>\n",
       "      <td>37.8</td>\n",
       "      <td>73.6</td>\n",
       "      <td>42.3</td>\n",
       "      <td>4.9</td>\n",
       "      <td>16.6</td>\n",
       "      <td>10.1</td>\n",
       "    </tr>\n",
       "    <tr>\n",
       "      <th>7</th>\n",
       "      <td>Mar_20</td>\n",
       "      <td>5.8</td>\n",
       "      <td>5.8</td>\n",
       "      <td>92.5</td>\n",
       "      <td>86.2</td>\n",
       "      <td>0.00142</td>\n",
       "      <td>0.00026</td>\n",
       "      <td>0.4</td>\n",
       "      <td>29.4</td>\n",
       "      <td>55.9</td>\n",
       "      <td>72.0</td>\n",
       "      <td>6.1</td>\n",
       "      <td>15.7</td>\n",
       "      <td>13.4</td>\n",
       "    </tr>\n",
       "    <tr>\n",
       "      <th>8</th>\n",
       "      <td>Mar_20</td>\n",
       "      <td>8.7</td>\n",
       "      <td>8.5</td>\n",
       "      <td>104.8</td>\n",
       "      <td>105.0</td>\n",
       "      <td>0.01212</td>\n",
       "      <td>0.00800</td>\n",
       "      <td>3.5</td>\n",
       "      <td>63.0</td>\n",
       "      <td>113.2</td>\n",
       "      <td>18.8</td>\n",
       "      <td>3.1</td>\n",
       "      <td>7.5</td>\n",
       "      <td>5.1</td>\n",
       "    </tr>\n",
       "    <tr>\n",
       "      <th>9</th>\n",
       "      <td>Mar_20</td>\n",
       "      <td>9.5</td>\n",
       "      <td>9.7</td>\n",
       "      <td>112.8</td>\n",
       "      <td>93.0</td>\n",
       "      <td>0.00432</td>\n",
       "      <td>0.00019</td>\n",
       "      <td>2.4</td>\n",
       "      <td>44.9</td>\n",
       "      <td>90.1</td>\n",
       "      <td>20.6</td>\n",
       "      <td>2.2</td>\n",
       "      <td>0.2</td>\n",
       "      <td>6.8</td>\n",
       "    </tr>\n",
       "  </tbody>\n",
       "</table>\n",
       "</div>"
      ],
      "text/plain": [
       "  Dataset  Temp_up20  Temp_low20  Ox_up20  Ox_low20  kf_up20  kf_low20  d10  \\\n",
       "0  Dec_19        5.4         5.2     97.0      96.4  0.00592   0.00267  2.9   \n",
       "1  Dec_19        4.6         5.0     94.9      91.1  0.00727   0.00056  2.0   \n",
       "2  Dec_19        3.6         4.5     83.3      31.1  0.00295   0.00021  0.4   \n",
       "3  Dec_19        4.4         4.8     85.5      47.2  0.00561   0.00103  0.5   \n",
       "4  Dec_19        3.4         4.3     36.1       1.7  0.00222   0.00064  0.9   \n",
       "5  Mar_20        6.7         6.7    107.5      73.7  0.00061   0.00061  0.5   \n",
       "6  Mar_20        6.1         6.1    107.7      79.6  0.00481   0.00062  0.9   \n",
       "7  Mar_20        5.8         5.8     92.5      86.2  0.00142   0.00026  0.4   \n",
       "8  Mar_20        8.7         8.5    104.8     105.0  0.01212   0.00800  3.5   \n",
       "9  Mar_20        9.5         9.7    112.8      93.0  0.00432   0.00019  2.4   \n",
       "\n",
       "     dm    d84     Cu    Cc   Por  Fines  \n",
       "0  80.3   98.9   20.1   2.0  18.7    6.0  \n",
       "1  70.0   84.3   21.0   1.9  18.8    7.4  \n",
       "2  50.1   94.6  150.6  32.3  17.9   10.5  \n",
       "3  37.4   62.3   73.9   8.9  13.7   15.2  \n",
       "4  37.0   69.5   44.0   4.1  16.7   10.3  \n",
       "5  56.5   99.1  120.4  32.9  16.9   12.8  \n",
       "6  37.8   73.6   42.3   4.9  16.6   10.1  \n",
       "7  29.4   55.9   72.0   6.1  15.7   13.4  \n",
       "8  63.0  113.2   18.8   3.1   7.5    5.1  \n",
       "9  44.9   90.1   20.6   2.2   0.2    6.8  "
      ]
     },
     "execution_count": 5,
     "metadata": {},
     "output_type": "execute_result"
    }
   ],
   "source": [
    "df = pd.read_csv('C:/Users/Naung Naung/OneDrive/Desktop/WAREM/Hiwi/Sorted_Data_Inn.csv')\n",
    "df.head(10)"
   ]
  },
  {
   "cell_type": "markdown",
   "metadata": {},
   "source": [
    "#### Basic statistics"
   ]
  },
  {
   "cell_type": "code",
   "execution_count": 6,
   "metadata": {},
   "outputs": [
    {
     "data": {
      "text/html": [
       "<div>\n",
       "<style scoped>\n",
       "    .dataframe tbody tr th:only-of-type {\n",
       "        vertical-align: middle;\n",
       "    }\n",
       "\n",
       "    .dataframe tbody tr th {\n",
       "        vertical-align: top;\n",
       "    }\n",
       "\n",
       "    .dataframe thead th {\n",
       "        text-align: right;\n",
       "    }\n",
       "</style>\n",
       "<table border=\"1\" class=\"dataframe\">\n",
       "  <thead>\n",
       "    <tr style=\"text-align: right;\">\n",
       "      <th></th>\n",
       "      <th>Temp_up20</th>\n",
       "      <th>Temp_low20</th>\n",
       "      <th>Ox_up20</th>\n",
       "      <th>Ox_low20</th>\n",
       "      <th>kf_up20</th>\n",
       "      <th>kf_low20</th>\n",
       "      <th>d10</th>\n",
       "      <th>dm</th>\n",
       "      <th>d84</th>\n",
       "      <th>Cu</th>\n",
       "      <th>Cc</th>\n",
       "      <th>Por</th>\n",
       "      <th>Fines</th>\n",
       "    </tr>\n",
       "  </thead>\n",
       "  <tbody>\n",
       "    <tr>\n",
       "      <th>count</th>\n",
       "      <td>18.000000</td>\n",
       "      <td>18.000000</td>\n",
       "      <td>18.000000</td>\n",
       "      <td>18.000000</td>\n",
       "      <td>18.000000</td>\n",
       "      <td>18.000000</td>\n",
       "      <td>18.000000</td>\n",
       "      <td>18.000000</td>\n",
       "      <td>18.000000</td>\n",
       "      <td>18.000000</td>\n",
       "      <td>18.000000</td>\n",
       "      <td>18.000000</td>\n",
       "      <td>18.000000</td>\n",
       "    </tr>\n",
       "    <tr>\n",
       "      <th>mean</th>\n",
       "      <td>6.516667</td>\n",
       "      <td>6.688889</td>\n",
       "      <td>91.122222</td>\n",
       "      <td>73.066667</td>\n",
       "      <td>0.004773</td>\n",
       "      <td>0.001341</td>\n",
       "      <td>1.533333</td>\n",
       "      <td>51.183333</td>\n",
       "      <td>89.138889</td>\n",
       "      <td>57.844444</td>\n",
       "      <td>7.338889</td>\n",
       "      <td>12.111111</td>\n",
       "      <td>9.677778</td>\n",
       "    </tr>\n",
       "    <tr>\n",
       "      <th>std</th>\n",
       "      <td>1.721918</td>\n",
       "      <td>1.534271</td>\n",
       "      <td>21.967370</td>\n",
       "      <td>32.545751</td>\n",
       "      <td>0.002904</td>\n",
       "      <td>0.001789</td>\n",
       "      <td>1.246171</td>\n",
       "      <td>15.187543</td>\n",
       "      <td>23.783438</td>\n",
       "      <td>39.008720</td>\n",
       "      <td>9.427628</td>\n",
       "      <td>5.308361</td>\n",
       "      <td>3.153440</td>\n",
       "    </tr>\n",
       "    <tr>\n",
       "      <th>min</th>\n",
       "      <td>3.400000</td>\n",
       "      <td>4.300000</td>\n",
       "      <td>36.100000</td>\n",
       "      <td>1.700000</td>\n",
       "      <td>0.000610</td>\n",
       "      <td>0.000190</td>\n",
       "      <td>0.400000</td>\n",
       "      <td>28.200000</td>\n",
       "      <td>55.900000</td>\n",
       "      <td>17.200000</td>\n",
       "      <td>1.900000</td>\n",
       "      <td>0.200000</td>\n",
       "      <td>4.400000</td>\n",
       "    </tr>\n",
       "    <tr>\n",
       "      <th>25%</th>\n",
       "      <td>5.500000</td>\n",
       "      <td>5.350000</td>\n",
       "      <td>84.675000</td>\n",
       "      <td>52.500000</td>\n",
       "      <td>0.002795</td>\n",
       "      <td>0.000572</td>\n",
       "      <td>0.500000</td>\n",
       "      <td>39.025000</td>\n",
       "      <td>71.575000</td>\n",
       "      <td>21.450000</td>\n",
       "      <td>2.400000</td>\n",
       "      <td>7.750000</td>\n",
       "      <td>6.950000</td>\n",
       "    </tr>\n",
       "    <tr>\n",
       "      <th>50%</th>\n",
       "      <td>6.950000</td>\n",
       "      <td>7.000000</td>\n",
       "      <td>95.950000</td>\n",
       "      <td>84.300000</td>\n",
       "      <td>0.004715</td>\n",
       "      <td>0.000745</td>\n",
       "      <td>0.900000</td>\n",
       "      <td>48.500000</td>\n",
       "      <td>88.500000</td>\n",
       "      <td>49.050000</td>\n",
       "      <td>4.200000</td>\n",
       "      <td>12.750000</td>\n",
       "      <td>10.400000</td>\n",
       "    </tr>\n",
       "    <tr>\n",
       "      <th>75%</th>\n",
       "      <td>7.275000</td>\n",
       "      <td>7.425000</td>\n",
       "      <td>106.825000</td>\n",
       "      <td>98.500000</td>\n",
       "      <td>0.006393</td>\n",
       "      <td>0.001427</td>\n",
       "      <td>2.375000</td>\n",
       "      <td>61.850000</td>\n",
       "      <td>101.425000</td>\n",
       "      <td>73.500000</td>\n",
       "      <td>5.800000</td>\n",
       "      <td>16.675000</td>\n",
       "      <td>12.050000</td>\n",
       "    </tr>\n",
       "    <tr>\n",
       "      <th>max</th>\n",
       "      <td>9.500000</td>\n",
       "      <td>9.700000</td>\n",
       "      <td>114.300000</td>\n",
       "      <td>106.500000</td>\n",
       "      <td>0.012120</td>\n",
       "      <td>0.008000</td>\n",
       "      <td>4.300000</td>\n",
       "      <td>80.300000</td>\n",
       "      <td>148.100000</td>\n",
       "      <td>150.600000</td>\n",
       "      <td>32.900000</td>\n",
       "      <td>18.800000</td>\n",
       "      <td>15.200000</td>\n",
       "    </tr>\n",
       "  </tbody>\n",
       "</table>\n",
       "</div>"
      ],
      "text/plain": [
       "       Temp_up20  Temp_low20     Ox_up20    Ox_low20    kf_up20   kf_low20  \\\n",
       "count  18.000000   18.000000   18.000000   18.000000  18.000000  18.000000   \n",
       "mean    6.516667    6.688889   91.122222   73.066667   0.004773   0.001341   \n",
       "std     1.721918    1.534271   21.967370   32.545751   0.002904   0.001789   \n",
       "min     3.400000    4.300000   36.100000    1.700000   0.000610   0.000190   \n",
       "25%     5.500000    5.350000   84.675000   52.500000   0.002795   0.000572   \n",
       "50%     6.950000    7.000000   95.950000   84.300000   0.004715   0.000745   \n",
       "75%     7.275000    7.425000  106.825000   98.500000   0.006393   0.001427   \n",
       "max     9.500000    9.700000  114.300000  106.500000   0.012120   0.008000   \n",
       "\n",
       "             d10         dm         d84          Cu         Cc        Por  \\\n",
       "count  18.000000  18.000000   18.000000   18.000000  18.000000  18.000000   \n",
       "mean    1.533333  51.183333   89.138889   57.844444   7.338889  12.111111   \n",
       "std     1.246171  15.187543   23.783438   39.008720   9.427628   5.308361   \n",
       "min     0.400000  28.200000   55.900000   17.200000   1.900000   0.200000   \n",
       "25%     0.500000  39.025000   71.575000   21.450000   2.400000   7.750000   \n",
       "50%     0.900000  48.500000   88.500000   49.050000   4.200000  12.750000   \n",
       "75%     2.375000  61.850000  101.425000   73.500000   5.800000  16.675000   \n",
       "max     4.300000  80.300000  148.100000  150.600000  32.900000  18.800000   \n",
       "\n",
       "           Fines  \n",
       "count  18.000000  \n",
       "mean    9.677778  \n",
       "std     3.153440  \n",
       "min     4.400000  \n",
       "25%     6.950000  \n",
       "50%    10.400000  \n",
       "75%    12.050000  \n",
       "max    15.200000  "
      ]
     },
     "execution_count": 6,
     "metadata": {},
     "output_type": "execute_result"
    }
   ],
   "source": [
    "df.iloc[:,1:].describe()"
   ]
  },
  {
   "cell_type": "markdown",
   "metadata": {},
   "source": [
    "#### Boxplots by output labels/classes"
   ]
  },
  {
   "cell_type": "code",
   "execution_count": 7,
   "metadata": {
    "scrolled": false
   },
   "outputs": [
    {
     "data": {
      "image/png": "[encoded data removed]",
      "text/plain": [
       "<Figure size 504x288 with 1 Axes>"
      ]
     },
     "metadata": {
      "needs_background": "light"
     },
     "output_type": "display_data"
    },
    {
     "data": {
      "image/png": "[encoded data removed]",
      "text/plain": [
       "<Figure size 504x288 with 1 Axes>"
      ]
     },
     "metadata": {
      "needs_background": "light"
     },
     "output_type": "display_data"
    },
    {
     "data": {
      "image/png": "[encoded data removed]",
      "text/plain": [
       "<Figure size 504x288 with 1 Axes>"
      ]
     },
     "metadata": {
      "needs_background": "light"
     },
     "output_type": "display_data"
    },
    {
     "data": {
      "image/png": "[encoded data removed]",
      "text/plain": [
       "<Figure size 504x288 with 1 Axes>"
      ]
     },
     "metadata": {
      "needs_background": "light"
     },
     "output_type": "display_data"
    },
    {
     "data": {
      "image/png": "[encoded data removed]",
      "text/plain": [
       "<Figure size 504x288 with 1 Axes>"
      ]
     },
     "metadata": {
      "needs_background": "light"
     },
     "output_type": "display_data"
    },
    {
     "data": {
      "image/png": "[encoded data removed]",
      "text/plain": [
       "<Figure size 504x288 with 1 Axes>"
      ]
     },
     "metadata": {
      "needs_background": "light"
     },
     "output_type": "display_data"
    },
    {
     "data": {
      "image/png": "[encoded data removed]",
      "text/plain": [
       "<Figure size 504x288 with 1 Axes>"
      ]
     },
     "metadata": {
      "needs_background": "light"
     },
     "output_type": "display_data"
    },
    {
     "data": {
      "image/png": "[encoded data removed]",
      "text/plain": [
       "<Figure size 504x288 with 1 Axes>"
      ]
     },
     "metadata": {
      "needs_background": "light"
     },
     "output_type": "display_data"
    },
    {
     "data": {
      "image/png": "[encoded data removed]",
      "text/plain": [
       "<Figure size 504x288 with 1 Axes>"
      ]
     },
     "metadata": {
      "needs_background": "light"
     },
     "output_type": "display_data"
    },
    {
     "data": {
      "image/png": "[encoded data removed]",
      "text/plain": [
       "<Figure size 504x288 with 1 Axes>"
      ]
     },
     "metadata": {
      "needs_background": "light"
     },
     "output_type": "display_data"
    },
    {
     "data": {
      "image/png": "[encoded data removed]",
      "text/plain": [
       "<Figure size 504x288 with 1 Axes>"
      ]
     },
     "metadata": {
      "needs_background": "light"
     },
     "output_type": "display_data"
    },
    {
     "data": {
      "image/png": "[encoded data removed]",
      "text/plain": [
       "<Figure size 504x288 with 1 Axes>"
      ]
     },
     "metadata": {
      "needs_background": "light"
     },
     "output_type": "display_data"
    },
    {
     "data": {
      "image/png": "[encoded data removed]",
      "text/plain": [
       "<Figure size 504x288 with 1 Axes>"
      ]
     },
     "metadata": {
      "needs_background": "light"
     },
     "output_type": "display_data"
    }
   ],
   "source": [
    "for c in df.columns[1:]:\n",
    "    df.boxplot(c,by='Dataset',figsize=(7,4),fontsize=14)\n",
    "    plt.title(\"{}\\n\".format(c),fontsize=16)\n",
    "    plt.xlabel(\"Dataset\", fontsize=16)"
   ]
  },
  {
   "cell_type": "code",
   "execution_count": 8,
   "metadata": {},
   "outputs": [
    {
     "data": {
      "image/png": "[encoded data removed]",
      "text/plain": [
       "<Figure size 720x432 with 1 Axes>"
      ]
     },
     "metadata": {
      "needs_background": "light"
     },
     "output_type": "display_data"
    }
   ],
   "source": [
    "plt.figure(figsize=(10,6))\n",
    "plt.scatter(df['Temp_up20'],df['kf_up20'],edgecolors='k',alpha=0.75,s=150)\n",
    "plt.grid(True)\n",
    "plt.title(\"Scatter plot of Temperature and Kf\",fontsize=15)\n",
    "plt.xlabel(\"Temp_up20\",fontsize=15)\n",
    "plt.ylabel(\"kf_up20\",fontsize=15)\n",
    "plt.show()"
   ]
  },
  {
   "cell_type": "code",
   "execution_count": 9,
   "metadata": {},
   "outputs": [
    {
     "data": {
      "image/png": "[encoded data removed]",
      "text/plain": [
       "<Figure size 720x432 with 1 Axes>"
      ]
     },
     "metadata": {
      "needs_background": "light"
     },
     "output_type": "display_data"
    }
   ],
   "source": [
    "plt.figure(figsize=(10,6))\n",
    "plt.scatter(df['Temp_up20'],df['Fines'],edgecolors='k',alpha=0.75,s=150)\n",
    "plt.grid(True)\n",
    "plt.title(\"Scatter plot of Temperature and Fine Sediment\",fontsize=15)\n",
    "plt.xlabel(\"Temp_up20\",fontsize=15)\n",
    "plt.ylabel(\"Fines\",fontsize=15)\n",
    "plt.show()"
   ]
  },
  {
   "cell_type": "markdown",
   "metadata": {},
   "source": [
    "#### Are the features independent? Plot co-variance matrix\n",
    "\n",
    "It can be seen that there are some good amount of correlation between features i.e. they are not independent of each other, as assumed in Naive Bayes technique. However, we will still go ahead and apply yhe classifier to see its performance."
   ]
  },
  {
   "cell_type": "code",
   "execution_count": 10,
   "metadata": {
    "scrolled": false
   },
   "outputs": [
    {
     "data": {
      "image/png": "[encoded data removed]",
      "text/plain": [
       "<Figure size 720x432 with 1 Axes>"
      ]
     },
     "metadata": {
      "needs_background": "light"
     },
     "output_type": "display_data"
    }
   ],
   "source": [
    "plt.figure(figsize=(10,6))\n",
    "plt.scatter(df['kf_up20'],df['Fines'],edgecolors='k',alpha=0.75,s=150)\n",
    "plt.grid(True)\n",
    "plt.title(\"Scatter plot of Kf and Fine Sediment\",fontsize=15)\n",
    "plt.xlabel(\"kf-up20\",fontsize=15)\n",
    "plt.ylabel(\"Fines\",fontsize=15)\n",
    "plt.show()"
   ]
  },
  {
   "cell_type": "code",
   "execution_count": 11,
   "metadata": {},
   "outputs": [
    {
     "data": {
      "image/png": "[encoded data removed]",
      "text/plain": [
       "<Figure size 720x432 with 1 Axes>"
      ]
     },
     "metadata": {
      "needs_background": "light"
     },
     "output_type": "display_data"
    }
   ],
   "source": [
    "plt.figure(figsize=(10,6))\n",
    "plt.scatter(df['Por'],df['Fines'],edgecolors='k',alpha=0.75,s=150)\n",
    "plt.grid(True)\n",
    "plt.title(\"Scatter plot of Porosity and Fine Sediment\",fontsize=15)\n",
    "plt.xlabel(\"Por\",fontsize=15)\n",
    "plt.ylabel(\"Fines\",fontsize=15)\n",
    "plt.show()"
   ]
  },
  {
   "cell_type": "code",
   "execution_count": 88,
   "metadata": {},
   "outputs": [
    {
     "name": "stderr",
     "output_type": "stream",
     "text": [
      "C:\\Users\\NAUNGN~1\\AppData\\Local\\Temp/ipykernel_1636/2618353917.py:12: UserWarning: FixedFormatter should only be used together with FixedLocator\n",
      "  ax1.set_xticklabels(labels,fontsize=9)\n",
      "C:\\Users\\NAUNGN~1\\AppData\\Local\\Temp/ipykernel_1636/2618353917.py:13: UserWarning: FixedFormatter should only be used together with FixedLocator\n",
      "  ax1.set_yticklabels(labels,fontsize=9)\n"
     ]
    },
    {
     "data": {
      "image/png": "[encoded data removed]",
      "text/plain": [
       "<Figure size 1152x864 with 2 Axes>"
      ]
     },
     "metadata": {
      "needs_background": "light"
     },
     "output_type": "display_data"
    }
   ],
   "source": [
    "def correlation_matrix(df):\n",
    "    from matplotlib import pyplot as plt\n",
    "    from matplotlib import cm as cm\n",
    "\n",
    "    fig = plt.figure(figsize=(16,12))\n",
    "    ax1 = fig.add_subplot(111)\n",
    "    cmap = cm.get_cmap('jet', 30)\n",
    "    cax = ax1.imshow(df.corr(), interpolation=\"nearest\", cmap=cmap)\n",
    "    ax1.grid(True)\n",
    "    plt.title('Wine data set features correlation\\n',fontsize=15)\n",
    "    labels=df.columns\n",
    "    ax1.set_xticklabels(labels,fontsize=9)\n",
    "    ax1.set_yticklabels(labels,fontsize=9)\n",
    "    # Add colorbar, make sure to specify tick locations to match desired ticklabels\n",
    "    fig.colorbar(cax, ticks=[0.1*i for i in range(-11,11)])\n",
    "    plt.show()\n",
    "\n",
    "correlation_matrix(df)"
   ]
  },
  {
   "cell_type": "code",
   "execution_count": 12,
   "metadata": {},
   "outputs": [
    {
     "name": "stdout",
     "output_type": "stream",
     "text": [
      "Correlation Matrix is : \n",
      "            Temp_up20  Temp_low20   Ox_up20  Ox_low20   kf_up20  kf_low20  \\\n",
      "Temp_up20    1.000000    0.987559  0.463645  0.528782  0.329088  0.327481   \n",
      "Temp_low20   0.987559    1.000000  0.390973  0.434377  0.305155  0.281345   \n",
      "Ox_up20      0.463645    0.390973  1.000000  0.896503  0.352825  0.092887   \n",
      "Ox_low20     0.528782    0.434377  0.896503  1.000000  0.503878  0.253930   \n",
      "kf_up20      0.329088    0.305155  0.352825  0.503878  1.000000  0.644024   \n",
      "kf_low20     0.327481    0.281345  0.092887  0.253930  0.644024  1.000000   \n",
      "d10          0.351713    0.303251  0.432417  0.624080  0.500854  0.519649   \n",
      "dm           0.091986    0.033566  0.433842  0.527703  0.444231  0.298638   \n",
      "d84          0.365681    0.348776  0.526429  0.512639  0.399521  0.265100   \n",
      "Cu          -0.312206   -0.279917 -0.167183 -0.430444 -0.472696 -0.372807   \n",
      "Cc          -0.330475   -0.298386 -0.042152 -0.350497 -0.423078 -0.214410   \n",
      "Por         -0.771888   -0.809050 -0.251528 -0.271125 -0.186828 -0.165228   \n",
      "Fines       -0.291122   -0.268261 -0.341880 -0.514701 -0.462963 -0.453327   \n",
      "\n",
      "                 d10        dm       d84        Cu        Cc       Por  \\\n",
      "Temp_up20   0.351713  0.091986  0.365681 -0.312206 -0.330475 -0.771888   \n",
      "Temp_low20  0.303251  0.033566  0.348776 -0.279917 -0.298386 -0.809050   \n",
      "Ox_up20     0.432417  0.433842  0.526429 -0.167183 -0.042152 -0.251528   \n",
      "Ox_low20    0.624080  0.527703  0.512639 -0.430444 -0.350497 -0.271125   \n",
      "kf_up20     0.500854  0.444231  0.399521 -0.472696 -0.423078 -0.186828   \n",
      "kf_low20    0.519649  0.298638  0.265100 -0.372807 -0.214410 -0.165228   \n",
      "d10         1.000000  0.614801  0.594933 -0.719941 -0.462206 -0.373090   \n",
      "dm          0.614801  1.000000  0.804302 -0.207006 -0.085875 -0.053115   \n",
      "d84         0.594933  0.804302  1.000000 -0.119770 -0.022296 -0.412892   \n",
      "Cu         -0.719941 -0.207006 -0.119770  1.000000  0.810310  0.272272   \n",
      "Cc         -0.462206 -0.085875 -0.022296  0.810310  1.000000  0.393023   \n",
      "Por        -0.373090 -0.053115 -0.412892  0.272272  0.393023  1.000000   \n",
      "Fines      -0.933858 -0.622364 -0.590116  0.688356  0.400307  0.311675   \n",
      "\n",
      "               Fines  \n",
      "Temp_up20  -0.291122  \n",
      "Temp_low20 -0.268261  \n",
      "Ox_up20    -0.341880  \n",
      "Ox_low20   -0.514701  \n",
      "kf_up20    -0.462963  \n",
      "kf_low20   -0.453327  \n",
      "d10        -0.933858  \n",
      "dm         -0.622364  \n",
      "d84        -0.590116  \n",
      "Cu          0.688356  \n",
      "Cc          0.400307  \n",
      "Por         0.311675  \n",
      "Fines       1.000000  \n"
     ]
    }
   ],
   "source": [
    "matrix = df.corr()\n",
    "print(\"Correlation Matrix is : \")\n",
    "print(matrix)"
   ]
  },
  {
   "cell_type": "code",
   "execution_count": 14,
   "metadata": {},
   "outputs": [
    {
     "name": "stdout",
     "output_type": "stream",
     "text": [
      "            Temp_up20  Temp_low20   Ox_up20   kf_up20  kf_low20       d10  \\\n",
      "Temp_up20    1.000000    0.987559  0.463645  0.329088  0.327481  0.351713   \n",
      "Temp_low20   0.987559    1.000000  0.390973  0.305155  0.281345  0.303251   \n",
      "Ox_up20      0.463645    0.390973  1.000000  0.352825  0.092887  0.432417   \n",
      "kf_up20      0.329088    0.305155  0.352825  1.000000  0.644024  0.500854   \n",
      "kf_low20     0.327481    0.281345  0.092887  0.644024  1.000000  0.519649   \n",
      "d10          0.351713    0.303251  0.432417  0.500854  0.519649  1.000000   \n",
      "dm           0.091986    0.033566  0.433842  0.444231  0.298638  0.614801   \n",
      "d84          0.365681    0.348776  0.526429  0.399521  0.265100  0.594933   \n",
      "Cu          -0.312206   -0.279917 -0.167183 -0.472696 -0.372807 -0.719941   \n",
      "Cc          -0.330475   -0.298386 -0.042152 -0.423078 -0.214410 -0.462206   \n",
      "Por         -0.771888   -0.809050 -0.251528 -0.186828 -0.165228 -0.373090   \n",
      "Fines       -0.291122   -0.268261 -0.341880 -0.462963 -0.453327 -0.933858   \n",
      "\n",
      "                  dm       d84        Cu        Cc       Por     Fines  \n",
      "Temp_up20   0.091986  0.365681 -0.312206 -0.330475 -0.771888 -0.291122  \n",
      "Temp_low20  0.033566  0.348776 -0.279917 -0.298386 -0.809050 -0.268261  \n",
      "Ox_up20     0.433842  0.526429 -0.167183 -0.042152 -0.251528 -0.341880  \n",
      "kf_up20     0.444231  0.399521 -0.472696 -0.423078 -0.186828 -0.462963  \n",
      "kf_low20    0.298638  0.265100 -0.372807 -0.214410 -0.165228 -0.453327  \n",
      "d10         0.614801  0.594933 -0.719941 -0.462206 -0.373090 -0.933858  \n",
      "dm          1.000000  0.804302 -0.207006 -0.085875 -0.053115 -0.622364  \n",
      "d84         0.804302  1.000000 -0.119770 -0.022296 -0.412892 -0.590116  \n",
      "Cu         -0.207006 -0.119770  1.000000  0.810310  0.272272  0.688356  \n",
      "Cc         -0.085875 -0.022296  0.810310  1.000000  0.393023  0.400307  \n",
      "Por        -0.053115 -0.412892  0.272272  0.393023  1.000000  0.311675  \n",
      "Fines      -0.622364 -0.590116  0.688356  0.400307  0.311675  1.000000  \n"
     ]
    },
    {
     "data": {
      "text/plain": [
       "<AxesSubplot:>"
      ]
     },
     "execution_count": 14,
     "metadata": {},
     "output_type": "execute_result"
    },
    {
     "data": {
      "image/png": "[encoded data removed]",
      "text/plain": [
       "<Figure size 432x288 with 2 Axes>"
      ]
     },
     "metadata": {
      "needs_background": "light"
     },
     "output_type": "display_data"
    }
   ],
   "source": [
    "import os\n",
    "import pandas as pd\n",
    "import numpy as np\n",
    "import seaborn as sn\n",
    " \n",
    "Dataset = pd.read_csv('C:/Users/Naung Naung/OneDrive/Desktop/WAREM/Hiwi/Sorted_Data_Inn.csv')\n",
    "\n",
    "numeric_col = ['Temp_up20','Temp_low20','Ox_up20','kf_up20','kf_low20','d10','dm','d84','Cu','Cc','Por','Fines']\n",
    " \n",
    "corr_matrix = Dataset.loc[:,numeric_col].corr()\n",
    "print(corr_matrix)\n",
    "\n",
    "sn.heatmap(corr_matrix, annot=True)"
   ]
  },
  {
   "cell_type": "markdown",
   "metadata": {},
   "source": [
    "## Principal Component Analysis"
   ]
  },
  {
   "cell_type": "markdown",
   "metadata": {},
   "source": [
    "### Data scaling\n",
    "PCA requires scaling/normalization of the data to work properly"
   ]
  },
  {
   "cell_type": "code",
   "execution_count": 15,
   "metadata": {},
   "outputs": [],
   "source": [
    "from sklearn.preprocessing import StandardScaler"
   ]
  },
  {
   "cell_type": "code",
   "execution_count": 16,
   "metadata": {},
   "outputs": [],
   "source": [
    "scaler = StandardScaler()"
   ]
  },
  {
   "cell_type": "code",
   "execution_count": 17,
   "metadata": {},
   "outputs": [],
   "source": [
    "X = df.drop('Dataset',axis=1)\n",
    "y = df['Dataset']"
   ]
  },
  {
   "cell_type": "code",
   "execution_count": 18,
   "metadata": {},
   "outputs": [],
   "source": [
    "X = scaler.fit_transform(X)"
   ]
  },
  {
   "cell_type": "code",
   "execution_count": 19,
   "metadata": {},
   "outputs": [],
   "source": [
    "dfx = pd.DataFrame(data=X,columns=df.columns[1:])"
   ]
  },
  {
   "cell_type": "code",
   "execution_count": 20,
   "metadata": {},
   "outputs": [
    {
     "data": {
      "text/html": [
       "<div>\n",
       "<style scoped>\n",
       "    .dataframe tbody tr th:only-of-type {\n",
       "        vertical-align: middle;\n",
       "    }\n",
       "\n",
       "    .dataframe tbody tr th {\n",
       "        vertical-align: top;\n",
       "    }\n",
       "\n",
       "    .dataframe thead th {\n",
       "        text-align: right;\n",
       "    }\n",
       "</style>\n",
       "<table border=\"1\" class=\"dataframe\">\n",
       "  <thead>\n",
       "    <tr style=\"text-align: right;\">\n",
       "      <th></th>\n",
       "      <th>Temp_up20</th>\n",
       "      <th>Temp_low20</th>\n",
       "      <th>Ox_up20</th>\n",
       "      <th>Ox_low20</th>\n",
       "      <th>kf_up20</th>\n",
       "      <th>kf_low20</th>\n",
       "      <th>d10</th>\n",
       "      <th>dm</th>\n",
       "      <th>d84</th>\n",
       "      <th>Cu</th>\n",
       "      <th>Cc</th>\n",
       "      <th>Por</th>\n",
       "      <th>Fines</th>\n",
       "    </tr>\n",
       "  </thead>\n",
       "  <tbody>\n",
       "    <tr>\n",
       "      <th>0</th>\n",
       "      <td>-0.667303</td>\n",
       "      <td>-0.998555</td>\n",
       "      <td>0.275326</td>\n",
       "      <td>0.737725</td>\n",
       "      <td>0.406305</td>\n",
       "      <td>0.764663</td>\n",
       "      <td>1.128488</td>\n",
       "      <td>1.972722</td>\n",
       "      <td>0.422315</td>\n",
       "      <td>-0.995642</td>\n",
       "      <td>-0.582720</td>\n",
       "      <td>1.277214</td>\n",
       "      <td>-1.200087</td>\n",
       "    </tr>\n",
       "    <tr>\n",
       "      <th>1</th>\n",
       "      <td>-1.145371</td>\n",
       "      <td>-1.132689</td>\n",
       "      <td>0.176958</td>\n",
       "      <td>0.570156</td>\n",
       "      <td>0.884658</td>\n",
       "      <td>-0.448956</td>\n",
       "      <td>0.385337</td>\n",
       "      <td>1.274873</td>\n",
       "      <td>-0.209355</td>\n",
       "      <td>-0.971901</td>\n",
       "      <td>-0.593635</td>\n",
       "      <td>1.296598</td>\n",
       "      <td>-0.743256</td>\n",
       "    </tr>\n",
       "    <tr>\n",
       "      <th>2</th>\n",
       "      <td>-1.742955</td>\n",
       "      <td>-1.468025</td>\n",
       "      <td>-0.366407</td>\n",
       "      <td>-1.326850</td>\n",
       "      <td>-0.646072</td>\n",
       "      <td>-0.650267</td>\n",
       "      <td>-0.935819</td>\n",
       "      <td>-0.073398</td>\n",
       "      <td>0.236275</td>\n",
       "      <td>2.446752</td>\n",
       "      <td>2.724415</td>\n",
       "      <td>1.122139</td>\n",
       "      <td>0.268297</td>\n",
       "    </tr>\n",
       "    <tr>\n",
       "      <th>3</th>\n",
       "      <td>-1.264888</td>\n",
       "      <td>-1.266824</td>\n",
       "      <td>-0.263355</td>\n",
       "      <td>-0.817820</td>\n",
       "      <td>0.296461</td>\n",
       "      <td>-0.178624</td>\n",
       "      <td>-0.853247</td>\n",
       "      <td>-0.933853</td>\n",
       "      <td>-1.161186</td>\n",
       "      <td>0.423521</td>\n",
       "      <td>0.170390</td>\n",
       "      <td>0.307996</td>\n",
       "      <td>1.801943</td>\n",
       "    </tr>\n",
       "    <tr>\n",
       "      <th>4</th>\n",
       "      <td>-1.862472</td>\n",
       "      <td>-1.602159</td>\n",
       "      <td>-2.577341</td>\n",
       "      <td>-2.256383</td>\n",
       "      <td>-0.904737</td>\n",
       "      <td>-0.402942</td>\n",
       "      <td>-0.522958</td>\n",
       "      <td>-0.960954</td>\n",
       "      <td>-0.849677</td>\n",
       "      <td>-0.365196</td>\n",
       "      <td>-0.353513</td>\n",
       "      <td>0.889527</td>\n",
       "      <td>0.203036</td>\n",
       "    </tr>\n",
       "    <tr>\n",
       "      <th>5</th>\n",
       "      <td>0.109557</td>\n",
       "      <td>0.007452</td>\n",
       "      <td>0.767165</td>\n",
       "      <td>0.020024</td>\n",
       "      <td>-1.475218</td>\n",
       "      <td>-0.420197</td>\n",
       "      <td>-0.853247</td>\n",
       "      <td>0.360217</td>\n",
       "      <td>0.430968</td>\n",
       "      <td>1.650122</td>\n",
       "      <td>2.789903</td>\n",
       "      <td>0.928295</td>\n",
       "      <td>1.018805</td>\n",
       "    </tr>\n",
       "    <tr>\n",
       "      <th>6</th>\n",
       "      <td>-0.248994</td>\n",
       "      <td>-0.394951</td>\n",
       "      <td>0.776533</td>\n",
       "      <td>0.206563</td>\n",
       "      <td>0.012992</td>\n",
       "      <td>-0.414445</td>\n",
       "      <td>-0.522958</td>\n",
       "      <td>-0.906752</td>\n",
       "      <td>-0.672291</td>\n",
       "      <td>-0.410039</td>\n",
       "      <td>-0.266196</td>\n",
       "      <td>0.870142</td>\n",
       "      <td>0.137774</td>\n",
       "    </tr>\n",
       "    <tr>\n",
       "      <th>7</th>\n",
       "      <td>-0.428269</td>\n",
       "      <td>-0.596152</td>\n",
       "      <td>0.064538</td>\n",
       "      <td>0.415234</td>\n",
       "      <td>-1.188206</td>\n",
       "      <td>-0.621508</td>\n",
       "      <td>-0.935819</td>\n",
       "      <td>-1.475872</td>\n",
       "      <td>-1.438082</td>\n",
       "      <td>0.373402</td>\n",
       "      <td>-0.135220</td>\n",
       "      <td>0.695683</td>\n",
       "      <td>1.214590</td>\n",
       "    </tr>\n",
       "    <tr>\n",
       "      <th>8</th>\n",
       "      <td>1.304727</td>\n",
       "      <td>1.214660</td>\n",
       "      <td>0.640692</td>\n",
       "      <td>1.009629</td>\n",
       "      <td>2.603187</td>\n",
       "      <td>3.830343</td>\n",
       "      <td>1.623922</td>\n",
       "      <td>0.800607</td>\n",
       "      <td>1.041005</td>\n",
       "      <td>-1.029934</td>\n",
       "      <td>-0.462659</td>\n",
       "      <td>-0.893834</td>\n",
       "      <td>-1.493764</td>\n",
       "    </tr>\n",
       "    <tr>\n",
       "      <th>9</th>\n",
       "      <td>1.782794</td>\n",
       "      <td>2.019466</td>\n",
       "      <td>1.015426</td>\n",
       "      <td>0.630228</td>\n",
       "      <td>-0.160632</td>\n",
       "      <td>-0.661770</td>\n",
       "      <td>0.715626</td>\n",
       "      <td>-0.425711</td>\n",
       "      <td>0.041583</td>\n",
       "      <td>-0.982453</td>\n",
       "      <td>-0.560891</td>\n",
       "      <td>-2.308892</td>\n",
       "      <td>-0.939041</td>\n",
       "    </tr>\n",
       "  </tbody>\n",
       "</table>\n",
       "</div>"
      ],
      "text/plain": [
       "   Temp_up20  Temp_low20   Ox_up20  Ox_low20   kf_up20  kf_low20       d10  \\\n",
       "0  -0.667303   -0.998555  0.275326  0.737725  0.406305  0.764663  1.128488   \n",
       "1  -1.145371   -1.132689  0.176958  0.570156  0.884658 -0.448956  0.385337   \n",
       "2  -1.742955   -1.468025 -0.366407 -1.326850 -0.646072 -0.650267 -0.935819   \n",
       "3  -1.264888   -1.266824 -0.263355 -0.817820  0.296461 -0.178624 -0.853247   \n",
       "4  -1.862472   -1.602159 -2.577341 -2.256383 -0.904737 -0.402942 -0.522958   \n",
       "5   0.109557    0.007452  0.767165  0.020024 -1.475218 -0.420197 -0.853247   \n",
       "6  -0.248994   -0.394951  0.776533  0.206563  0.012992 -0.414445 -0.522958   \n",
       "7  -0.428269   -0.596152  0.064538  0.415234 -1.188206 -0.621508 -0.935819   \n",
       "8   1.304727    1.214660  0.640692  1.009629  2.603187  3.830343  1.623922   \n",
       "9   1.782794    2.019466  1.015426  0.630228 -0.160632 -0.661770  0.715626   \n",
       "\n",
       "         dm       d84        Cu        Cc       Por     Fines  \n",
       "0  1.972722  0.422315 -0.995642 -0.582720  1.277214 -1.200087  \n",
       "1  1.274873 -0.209355 -0.971901 -0.593635  1.296598 -0.743256  \n",
       "2 -0.073398  0.236275  2.446752  2.724415  1.122139  0.268297  \n",
       "3 -0.933853 -1.161186  0.423521  0.170390  0.307996  1.801943  \n",
       "4 -0.960954 -0.849677 -0.365196 -0.353513  0.889527  0.203036  \n",
       "5  0.360217  0.430968  1.650122  2.789903  0.928295  1.018805  \n",
       "6 -0.906752 -0.672291 -0.410039 -0.266196  0.870142  0.137774  \n",
       "7 -1.475872 -1.438082  0.373402 -0.135220  0.695683  1.214590  \n",
       "8  0.800607  1.041005 -1.029934 -0.462659 -0.893834 -1.493764  \n",
       "9 -0.425711  0.041583 -0.982453 -0.560891 -2.308892 -0.939041  "
      ]
     },
     "execution_count": 20,
     "metadata": {},
     "output_type": "execute_result"
    }
   ],
   "source": [
    "dfx.head(10)"
   ]
  },
  {
   "cell_type": "code",
   "execution_count": 21,
   "metadata": {},
   "outputs": [
    {
     "data": {
      "text/html": [
       "<div>\n",
       "<style scoped>\n",
       "    .dataframe tbody tr th:only-of-type {\n",
       "        vertical-align: middle;\n",
       "    }\n",
       "\n",
       "    .dataframe tbody tr th {\n",
       "        vertical-align: top;\n",
       "    }\n",
       "\n",
       "    .dataframe thead th {\n",
       "        text-align: right;\n",
       "    }\n",
       "</style>\n",
       "<table border=\"1\" class=\"dataframe\">\n",
       "  <thead>\n",
       "    <tr style=\"text-align: right;\">\n",
       "      <th></th>\n",
       "      <th>Temp_up20</th>\n",
       "      <th>Temp_low20</th>\n",
       "      <th>Ox_up20</th>\n",
       "      <th>Ox_low20</th>\n",
       "      <th>kf_up20</th>\n",
       "      <th>kf_low20</th>\n",
       "      <th>d10</th>\n",
       "      <th>dm</th>\n",
       "      <th>d84</th>\n",
       "      <th>Cu</th>\n",
       "      <th>Cc</th>\n",
       "      <th>Por</th>\n",
       "      <th>Fines</th>\n",
       "    </tr>\n",
       "  </thead>\n",
       "  <tbody>\n",
       "    <tr>\n",
       "      <th>count</th>\n",
       "      <td>1.800000e+01</td>\n",
       "      <td>1.800000e+01</td>\n",
       "      <td>1.800000e+01</td>\n",
       "      <td>1.800000e+01</td>\n",
       "      <td>1.800000e+01</td>\n",
       "      <td>1.800000e+01</td>\n",
       "      <td>1.800000e+01</td>\n",
       "      <td>1.800000e+01</td>\n",
       "      <td>1.800000e+01</td>\n",
       "      <td>1.800000e+01</td>\n",
       "      <td>1.800000e+01</td>\n",
       "      <td>1.800000e+01</td>\n",
       "      <td>1.800000e+01</td>\n",
       "    </tr>\n",
       "    <tr>\n",
       "      <th>mean</th>\n",
       "      <td>5.242720e-17</td>\n",
       "      <td>-1.541976e-16</td>\n",
       "      <td>1.480297e-16</td>\n",
       "      <td>-2.713879e-16</td>\n",
       "      <td>3.700743e-17</td>\n",
       "      <td>-1.256711e-16</td>\n",
       "      <td>-8.635068e-17</td>\n",
       "      <td>-7.771561e-16</td>\n",
       "      <td>-5.265849e-16</td>\n",
       "      <td>-1.287550e-16</td>\n",
       "      <td>3.392348e-17</td>\n",
       "      <td>8.635068e-17</td>\n",
       "      <td>1.881211e-16</td>\n",
       "    </tr>\n",
       "    <tr>\n",
       "      <th>std</th>\n",
       "      <td>1.028992e+00</td>\n",
       "      <td>1.028992e+00</td>\n",
       "      <td>1.028992e+00</td>\n",
       "      <td>1.028992e+00</td>\n",
       "      <td>1.028992e+00</td>\n",
       "      <td>1.028992e+00</td>\n",
       "      <td>1.028992e+00</td>\n",
       "      <td>1.028992e+00</td>\n",
       "      <td>1.028992e+00</td>\n",
       "      <td>1.028992e+00</td>\n",
       "      <td>1.028992e+00</td>\n",
       "      <td>1.028992e+00</td>\n",
       "      <td>1.028992e+00</td>\n",
       "    </tr>\n",
       "    <tr>\n",
       "      <th>min</th>\n",
       "      <td>-1.862472e+00</td>\n",
       "      <td>-1.602159e+00</td>\n",
       "      <td>-2.577341e+00</td>\n",
       "      <td>-2.256383e+00</td>\n",
       "      <td>-1.475218e+00</td>\n",
       "      <td>-6.617703e-01</td>\n",
       "      <td>-9.358192e-01</td>\n",
       "      <td>-1.557174e+00</td>\n",
       "      <td>-1.438082e+00</td>\n",
       "      <td>-1.072139e+00</td>\n",
       "      <td>-5.936351e-01</td>\n",
       "      <td>-2.308892e+00</td>\n",
       "      <td>-1.722179e+00</td>\n",
       "    </tr>\n",
       "    <tr>\n",
       "      <th>25%</th>\n",
       "      <td>-6.075444e-01</td>\n",
       "      <td>-8.979544e-01</td>\n",
       "      <td>-3.019996e-01</td>\n",
       "      <td>-6.502516e-01</td>\n",
       "      <td>-7.009942e-01</td>\n",
       "      <td>-4.417661e-01</td>\n",
       "      <td>-8.532469e-01</td>\n",
       "      <td>-8.237555e-01</td>\n",
       "      <td>-7.599024e-01</td>\n",
       "      <td>-9.600308e-01</td>\n",
       "      <td>-5.390619e-01</td>\n",
       "      <td>-8.453733e-01</td>\n",
       "      <td>-8.900947e-01</td>\n",
       "    </tr>\n",
       "    <tr>\n",
       "      <th>50%</th>\n",
       "      <td>2.589534e-01</td>\n",
       "      <td>2.086533e-01</td>\n",
       "      <td>2.261419e-01</td>\n",
       "      <td>3.551617e-01</td>\n",
       "      <td>-2.066959e-02</td>\n",
       "      <td>-3.425484e-01</td>\n",
       "      <td>-5.229578e-01</td>\n",
       "      <td>-1.818021e-01</td>\n",
       "      <td>-2.764156e-02</td>\n",
       "      <td>-2.319842e-01</td>\n",
       "      <td>-3.425984e-01</td>\n",
       "      <td>1.238445e-01</td>\n",
       "      <td>2.356666e-01</td>\n",
       "    </tr>\n",
       "    <tr>\n",
       "      <th>75%</th>\n",
       "      <td>4.531684e-01</td>\n",
       "      <td>4.936886e-01</td>\n",
       "      <td>7.355466e-01</td>\n",
       "      <td>8.041198e-01</td>\n",
       "      <td>5.737287e-01</td>\n",
       "      <td>5.000824e-02</td>\n",
       "      <td>6.949834e-01</td>\n",
       "      <td>7.226916e-01</td>\n",
       "      <td>5.315591e-01</td>\n",
       "      <td>4.129701e-01</td>\n",
       "      <td>-1.679642e-01</td>\n",
       "      <td>8.846805e-01</td>\n",
       "      <td>7.740742e-01</td>\n",
       "    </tr>\n",
       "    <tr>\n",
       "      <th>max</th>\n",
       "      <td>1.782794e+00</td>\n",
       "      <td>2.019466e+00</td>\n",
       "      <td>1.085689e+00</td>\n",
       "      <td>1.057054e+00</td>\n",
       "      <td>2.603187e+00</td>\n",
       "      <td>3.830343e+00</td>\n",
       "      <td>2.284500e+00</td>\n",
       "      <td>1.972722e+00</td>\n",
       "      <td>2.550955e+00</td>\n",
       "      <td>2.446752e+00</td>\n",
       "      <td>2.789903e+00</td>\n",
       "      <td>1.296598e+00</td>\n",
       "      <td>1.801943e+00</td>\n",
       "    </tr>\n",
       "  </tbody>\n",
       "</table>\n",
       "</div>"
      ],
      "text/plain": [
       "          Temp_up20    Temp_low20       Ox_up20      Ox_low20       kf_up20  \\\n",
       "count  1.800000e+01  1.800000e+01  1.800000e+01  1.800000e+01  1.800000e+01   \n",
       "mean   5.242720e-17 -1.541976e-16  1.480297e-16 -2.713879e-16  3.700743e-17   \n",
       "std    1.028992e+00  1.028992e+00  1.028992e+00  1.028992e+00  1.028992e+00   \n",
       "min   -1.862472e+00 -1.602159e+00 -2.577341e+00 -2.256383e+00 -1.475218e+00   \n",
       "25%   -6.075444e-01 -8.979544e-01 -3.019996e-01 -6.502516e-01 -7.009942e-01   \n",
       "50%    2.589534e-01  2.086533e-01  2.261419e-01  3.551617e-01 -2.066959e-02   \n",
       "75%    4.531684e-01  4.936886e-01  7.355466e-01  8.041198e-01  5.737287e-01   \n",
       "max    1.782794e+00  2.019466e+00  1.085689e+00  1.057054e+00  2.603187e+00   \n",
       "\n",
       "           kf_low20           d10            dm           d84            Cu  \\\n",
       "count  1.800000e+01  1.800000e+01  1.800000e+01  1.800000e+01  1.800000e+01   \n",
       "mean  -1.256711e-16 -8.635068e-17 -7.771561e-16 -5.265849e-16 -1.287550e-16   \n",
       "std    1.028992e+00  1.028992e+00  1.028992e+00  1.028992e+00  1.028992e+00   \n",
       "min   -6.617703e-01 -9.358192e-01 -1.557174e+00 -1.438082e+00 -1.072139e+00   \n",
       "25%   -4.417661e-01 -8.532469e-01 -8.237555e-01 -7.599024e-01 -9.600308e-01   \n",
       "50%   -3.425484e-01 -5.229578e-01 -1.818021e-01 -2.764156e-02 -2.319842e-01   \n",
       "75%    5.000824e-02  6.949834e-01  7.226916e-01  5.315591e-01  4.129701e-01   \n",
       "max    3.830343e+00  2.284500e+00  1.972722e+00  2.550955e+00  2.446752e+00   \n",
       "\n",
       "                 Cc           Por         Fines  \n",
       "count  1.800000e+01  1.800000e+01  1.800000e+01  \n",
       "mean   3.392348e-17  8.635068e-17  1.881211e-16  \n",
       "std    1.028992e+00  1.028992e+00  1.028992e+00  \n",
       "min   -5.936351e-01 -2.308892e+00 -1.722179e+00  \n",
       "25%   -5.390619e-01 -8.453733e-01 -8.900947e-01  \n",
       "50%   -3.425984e-01  1.238445e-01  2.356666e-01  \n",
       "75%   -1.679642e-01  8.846805e-01  7.740742e-01  \n",
       "max    2.789903e+00  1.296598e+00  1.801943e+00  "
      ]
     },
     "execution_count": 21,
     "metadata": {},
     "output_type": "execute_result"
    }
   ],
   "source": [
    "dfx.describe()"
   ]
  },
  {
   "cell_type": "markdown",
   "metadata": {},
   "source": [
    "### PCA class import and analysis"
   ]
  },
  {
   "cell_type": "code",
   "execution_count": 3,
   "metadata": {},
   "outputs": [],
   "source": [
    "from sklearn.decomposition import PCA"
   ]
  },
  {
   "cell_type": "code",
   "execution_count": 4,
   "metadata": {},
   "outputs": [],
   "source": [
    "pca = PCA(n_components=None)"
   ]
  },
  {
   "cell_type": "code",
   "execution_count": 5,
   "metadata": {},
   "outputs": [
    {
     "ename": "NameError",
     "evalue": "name 'dfx' is not defined",
     "output_type": "error",
     "traceback": [
      "\u001b[1;31m---------------------------------------------------------------------------\u001b[0m",
      "\u001b[1;31mNameError\u001b[0m                                 Traceback (most recent call last)",
      "\u001b[1;32mC:\\Users\\NAUNGN~1\\AppData\\Local\\Temp/ipykernel_14096/274213280.py\u001b[0m in \u001b[0;36m<module>\u001b[1;34m\u001b[0m\n\u001b[1;32m----> 1\u001b[1;33m \u001b[0mdfx_pca\u001b[0m \u001b[1;33m=\u001b[0m \u001b[0mpca\u001b[0m\u001b[1;33m.\u001b[0m\u001b[0mfit\u001b[0m\u001b[1;33m(\u001b[0m\u001b[0mdfx\u001b[0m\u001b[1;33m)\u001b[0m\u001b[1;33m\u001b[0m\u001b[1;33m\u001b[0m\u001b[0m\n\u001b[0m",
      "\u001b[1;31mNameError\u001b[0m: name 'dfx' is not defined"
     ]
    }
   ],
   "source": [
    "dfx_pca = pca.fit(dfx)"
   ]
  },
  {
   "cell_type": "markdown",
   "metadata": {},
   "source": [
    "#### Plot the _explained variance ratio_"
   ]
  },
  {
   "cell_type": "code",
   "execution_count": 6,
   "metadata": {},
   "outputs": [
    {
     "ename": "NameError",
     "evalue": "name 'plt' is not defined",
     "output_type": "error",
     "traceback": [
      "\u001b[1;31m---------------------------------------------------------------------------\u001b[0m",
      "\u001b[1;31mNameError\u001b[0m                                 Traceback (most recent call last)",
      "\u001b[1;32mC:\\Users\\NAUNGN~1\\AppData\\Local\\Temp/ipykernel_14096/2350366427.py\u001b[0m in \u001b[0;36m<module>\u001b[1;34m\u001b[0m\n\u001b[1;32m----> 1\u001b[1;33m \u001b[0mplt\u001b[0m\u001b[1;33m.\u001b[0m\u001b[0mfigure\u001b[0m\u001b[1;33m(\u001b[0m\u001b[0mfigsize\u001b[0m\u001b[1;33m=\u001b[0m\u001b[1;33m(\u001b[0m\u001b[1;36m10\u001b[0m\u001b[1;33m,\u001b[0m\u001b[1;36m6\u001b[0m\u001b[1;33m)\u001b[0m\u001b[1;33m)\u001b[0m\u001b[1;33m\u001b[0m\u001b[1;33m\u001b[0m\u001b[0m\n\u001b[0m\u001b[0;32m      2\u001b[0m plt.scatter(x=[i+1 for i in range(len(dfx_pca.explained_variance_ratio_))],\n\u001b[0;32m      3\u001b[0m             \u001b[0my\u001b[0m\u001b[1;33m=\u001b[0m\u001b[0mdfx_pca\u001b[0m\u001b[1;33m.\u001b[0m\u001b[0mexplained_variance_ratio_\u001b[0m\u001b[1;33m,\u001b[0m\u001b[1;33m\u001b[0m\u001b[1;33m\u001b[0m\u001b[0m\n\u001b[0;32m      4\u001b[0m            s=200, alpha=0.75,c='orange',edgecolor='k')\n\u001b[0;32m      5\u001b[0m \u001b[0mplt\u001b[0m\u001b[1;33m.\u001b[0m\u001b[0mgrid\u001b[0m\u001b[1;33m(\u001b[0m\u001b[1;32mTrue\u001b[0m\u001b[1;33m)\u001b[0m\u001b[1;33m\u001b[0m\u001b[1;33m\u001b[0m\u001b[0m\n",
      "\u001b[1;31mNameError\u001b[0m: name 'plt' is not defined"
     ]
    }
   ],
   "source": [
    "plt.figure(figsize=(10,6))\n",
    "plt.scatter(x=[i+1 for i in range(len(dfx_pca.explained_variance_ratio_))],\n",
    "            y=dfx_pca.explained_variance_ratio_,\n",
    "           s=200, alpha=0.75,c='orange',edgecolor='k')\n",
    "plt.grid(True)\n",
    "plt.title(\"Explained variance ratio of the \\nfitted principal component vector\\n\",fontsize=25)\n",
    "plt.xlabel(\"Principal components\",fontsize=15)\n",
    "plt.xticks([i+1 for i in range(len(dfx_pca.explained_variance_ratio_))],fontsize=15)\n",
    "plt.yticks(fontsize=15)\n",
    "plt.ylabel(\"Explained variance ratio\",fontsize=15)\n",
    "plt.show()"
   ]
  },
  {
   "cell_type": "markdown",
   "metadata": {},
   "source": [
    "**The above plot means that the $1^{st}$ principal component explains about 36% of the total variance in the data and the $2^{nd}$ component explians further 20%. Therefore, if we just consider first two components, they together explain 56% of the total variance.**"
   ]
  },
  {
   "cell_type": "markdown",
   "metadata": {},
   "source": [
    "### Showing better class separation using principal components"
   ]
  },
  {
   "cell_type": "markdown",
   "metadata": {},
   "source": [
    "#### Transform the scaled data set using the fitted PCA object"
   ]
  },
  {
   "cell_type": "code",
   "execution_count": 26,
   "metadata": {},
   "outputs": [],
   "source": [
    "dfx_trans = pca.transform(dfx)"
   ]
  },
  {
   "cell_type": "markdown",
   "metadata": {},
   "source": [
    "#### Put it in a data frame"
   ]
  },
  {
   "cell_type": "code",
   "execution_count": 27,
   "metadata": {},
   "outputs": [
    {
     "data": {
      "text/html": [
       "<div>\n",
       "<style scoped>\n",
       "    .dataframe tbody tr th:only-of-type {\n",
       "        vertical-align: middle;\n",
       "    }\n",
       "\n",
       "    .dataframe tbody tr th {\n",
       "        vertical-align: top;\n",
       "    }\n",
       "\n",
       "    .dataframe thead th {\n",
       "        text-align: right;\n",
       "    }\n",
       "</style>\n",
       "<table border=\"1\" class=\"dataframe\">\n",
       "  <thead>\n",
       "    <tr style=\"text-align: right;\">\n",
       "      <th></th>\n",
       "      <th>0</th>\n",
       "      <th>1</th>\n",
       "      <th>2</th>\n",
       "      <th>3</th>\n",
       "      <th>4</th>\n",
       "      <th>5</th>\n",
       "      <th>6</th>\n",
       "      <th>7</th>\n",
       "      <th>8</th>\n",
       "      <th>9</th>\n",
       "      <th>10</th>\n",
       "      <th>11</th>\n",
       "      <th>12</th>\n",
       "    </tr>\n",
       "  </thead>\n",
       "  <tbody>\n",
       "    <tr>\n",
       "      <th>0</th>\n",
       "      <td>1.644261</td>\n",
       "      <td>2.927007</td>\n",
       "      <td>-0.566039</td>\n",
       "      <td>-0.345756</td>\n",
       "      <td>-0.019686</td>\n",
       "      <td>-0.079045</td>\n",
       "      <td>0.869683</td>\n",
       "      <td>-0.103830</td>\n",
       "      <td>-0.110875</td>\n",
       "      <td>0.196858</td>\n",
       "      <td>0.109289</td>\n",
       "      <td>-0.097408</td>\n",
       "      <td>0.030026</td>\n",
       "    </tr>\n",
       "    <tr>\n",
       "      <th>1</th>\n",
       "      <td>0.483196</td>\n",
       "      <td>2.503580</td>\n",
       "      <td>-0.783721</td>\n",
       "      <td>-1.100418</td>\n",
       "      <td>-0.348269</td>\n",
       "      <td>0.579892</td>\n",
       "      <td>0.187826</td>\n",
       "      <td>0.528124</td>\n",
       "      <td>-0.293246</td>\n",
       "      <td>0.282163</td>\n",
       "      <td>0.092580</td>\n",
       "      <td>0.090612</td>\n",
       "      <td>-0.054378</td>\n",
       "    </tr>\n",
       "    <tr>\n",
       "      <th>2</th>\n",
       "      <td>-3.630982</td>\n",
       "      <td>1.747255</td>\n",
       "      <td>2.149087</td>\n",
       "      <td>1.164869</td>\n",
       "      <td>0.403940</td>\n",
       "      <td>-0.430833</td>\n",
       "      <td>-0.863162</td>\n",
       "      <td>0.337542</td>\n",
       "      <td>-0.289068</td>\n",
       "      <td>-0.236847</td>\n",
       "      <td>0.208109</td>\n",
       "      <td>-0.036508</td>\n",
       "      <td>-0.027005</td>\n",
       "    </tr>\n",
       "    <tr>\n",
       "      <th>3</th>\n",
       "      <td>-2.655705</td>\n",
       "      <td>0.152385</td>\n",
       "      <td>-0.599902</td>\n",
       "      <td>-0.074331</td>\n",
       "      <td>-1.091261</td>\n",
       "      <td>0.630771</td>\n",
       "      <td>-0.829067</td>\n",
       "      <td>-0.630707</td>\n",
       "      <td>0.121190</td>\n",
       "      <td>0.550471</td>\n",
       "      <td>-0.335131</td>\n",
       "      <td>-0.127282</td>\n",
       "      <td>0.003378</td>\n",
       "    </tr>\n",
       "    <tr>\n",
       "      <th>4</th>\n",
       "      <td>-3.438697</td>\n",
       "      <td>1.042096</td>\n",
       "      <td>-2.557178</td>\n",
       "      <td>0.526226</td>\n",
       "      <td>1.336317</td>\n",
       "      <td>0.224443</td>\n",
       "      <td>-0.130375</td>\n",
       "      <td>0.081279</td>\n",
       "      <td>0.368031</td>\n",
       "      <td>-0.178288</td>\n",
       "      <td>-0.015326</td>\n",
       "      <td>0.071042</td>\n",
       "      <td>-0.036823</td>\n",
       "    </tr>\n",
       "    <tr>\n",
       "      <th>5</th>\n",
       "      <td>-1.982820</td>\n",
       "      <td>0.153476</td>\n",
       "      <td>3.231765</td>\n",
       "      <td>0.364774</td>\n",
       "      <td>-0.166946</td>\n",
       "      <td>-1.079672</td>\n",
       "      <td>0.627598</td>\n",
       "      <td>0.184055</td>\n",
       "      <td>0.323628</td>\n",
       "      <td>0.321789</td>\n",
       "      <td>-0.189221</td>\n",
       "      <td>0.073954</td>\n",
       "      <td>0.011875</td>\n",
       "    </tr>\n",
       "    <tr>\n",
       "      <th>6</th>\n",
       "      <td>-0.679362</td>\n",
       "      <td>0.053717</td>\n",
       "      <td>-0.372274</td>\n",
       "      <td>-1.206983</td>\n",
       "      <td>-0.972291</td>\n",
       "      <td>-0.295674</td>\n",
       "      <td>-0.244825</td>\n",
       "      <td>0.267292</td>\n",
       "      <td>0.394729</td>\n",
       "      <td>-0.140837</td>\n",
       "      <td>0.404973</td>\n",
       "      <td>-0.168318</td>\n",
       "      <td>0.080123</td>\n",
       "    </tr>\n",
       "    <tr>\n",
       "      <th>7</th>\n",
       "      <td>-2.336690</td>\n",
       "      <td>-0.740984</td>\n",
       "      <td>-0.259550</td>\n",
       "      <td>-1.427735</td>\n",
       "      <td>-0.889041</td>\n",
       "      <td>-0.513895</td>\n",
       "      <td>0.169861</td>\n",
       "      <td>-0.636939</td>\n",
       "      <td>0.031715</td>\n",
       "      <td>-0.307451</td>\n",
       "      <td>-0.048763</td>\n",
       "      <td>0.224823</td>\n",
       "      <td>-0.001709</td>\n",
       "    </tr>\n",
       "    <tr>\n",
       "      <th>8</th>\n",
       "      <td>4.914005</td>\n",
       "      <td>0.359631</td>\n",
       "      <td>-0.834324</td>\n",
       "      <td>2.571271</td>\n",
       "      <td>-1.593458</td>\n",
       "      <td>-0.584876</td>\n",
       "      <td>-0.242080</td>\n",
       "      <td>-0.402061</td>\n",
       "      <td>0.070404</td>\n",
       "      <td>-0.007971</td>\n",
       "      <td>0.150022</td>\n",
       "      <td>0.095345</td>\n",
       "      <td>-0.012808</td>\n",
       "    </tr>\n",
       "    <tr>\n",
       "      <th>9</th>\n",
       "      <td>2.710523</td>\n",
       "      <td>-2.714768</td>\n",
       "      <td>0.133382</td>\n",
       "      <td>-0.873301</td>\n",
       "      <td>0.958540</td>\n",
       "      <td>-0.502326</td>\n",
       "      <td>-0.476524</td>\n",
       "      <td>0.387635</td>\n",
       "      <td>-0.289250</td>\n",
       "      <td>0.419829</td>\n",
       "      <td>0.171965</td>\n",
       "      <td>0.005513</td>\n",
       "      <td>-0.030897</td>\n",
       "    </tr>\n",
       "  </tbody>\n",
       "</table>\n",
       "</div>"
      ],
      "text/plain": [
       "         0         1         2         3         4         5         6   \\\n",
       "0  1.644261  2.927007 -0.566039 -0.345756 -0.019686 -0.079045  0.869683   \n",
       "1  0.483196  2.503580 -0.783721 -1.100418 -0.348269  0.579892  0.187826   \n",
       "2 -3.630982  1.747255  2.149087  1.164869  0.403940 -0.430833 -0.863162   \n",
       "3 -2.655705  0.152385 -0.599902 -0.074331 -1.091261  0.630771 -0.829067   \n",
       "4 -3.438697  1.042096 -2.557178  0.526226  1.336317  0.224443 -0.130375   \n",
       "5 -1.982820  0.153476  3.231765  0.364774 -0.166946 -1.079672  0.627598   \n",
       "6 -0.679362  0.053717 -0.372274 -1.206983 -0.972291 -0.295674 -0.244825   \n",
       "7 -2.336690 -0.740984 -0.259550 -1.427735 -0.889041 -0.513895  0.169861   \n",
       "8  4.914005  0.359631 -0.834324  2.571271 -1.593458 -0.584876 -0.242080   \n",
       "9  2.710523 -2.714768  0.133382 -0.873301  0.958540 -0.502326 -0.476524   \n",
       "\n",
       "         7         8         9         10        11        12  \n",
       "0 -0.103830 -0.110875  0.196858  0.109289 -0.097408  0.030026  \n",
       "1  0.528124 -0.293246  0.282163  0.092580  0.090612 -0.054378  \n",
       "2  0.337542 -0.289068 -0.236847  0.208109 -0.036508 -0.027005  \n",
       "3 -0.630707  0.121190  0.550471 -0.335131 -0.127282  0.003378  \n",
       "4  0.081279  0.368031 -0.178288 -0.015326  0.071042 -0.036823  \n",
       "5  0.184055  0.323628  0.321789 -0.189221  0.073954  0.011875  \n",
       "6  0.267292  0.394729 -0.140837  0.404973 -0.168318  0.080123  \n",
       "7 -0.636939  0.031715 -0.307451 -0.048763  0.224823 -0.001709  \n",
       "8 -0.402061  0.070404 -0.007971  0.150022  0.095345 -0.012808  \n",
       "9  0.387635 -0.289250  0.419829  0.171965  0.005513 -0.030897  "
      ]
     },
     "execution_count": 27,
     "metadata": {},
     "output_type": "execute_result"
    }
   ],
   "source": [
    "dfx_trans = pd.DataFrame(data=dfx_trans)\n",
    "dfx_trans.head(10)"
   ]
  },
  {
   "cell_type": "markdown",
   "metadata": {},
   "source": [
    "#### Plot the first two columns of this transformed data set with the color set to original ground truth class label"
   ]
  },
  {
   "cell_type": "code",
   "execution_count": 2,
   "metadata": {
    "scrolled": false
   },
   "outputs": [
    {
     "ename": "NameError",
     "evalue": "name 'plt' is not defined",
     "output_type": "error",
     "traceback": [
      "\u001b[1;31m---------------------------------------------------------------------------\u001b[0m",
      "\u001b[1;31mNameError\u001b[0m                                 Traceback (most recent call last)",
      "\u001b[1;32mC:\\Users\\NAUNGN~1\\AppData\\Local\\Temp/ipykernel_14096/2807876154.py\u001b[0m in \u001b[0;36m<module>\u001b[1;34m\u001b[0m\n\u001b[1;32m----> 1\u001b[1;33m \u001b[0mplt\u001b[0m\u001b[1;33m.\u001b[0m\u001b[0mfigure\u001b[0m\u001b[1;33m(\u001b[0m\u001b[0mfigsize\u001b[0m\u001b[1;33m=\u001b[0m\u001b[1;33m(\u001b[0m\u001b[1;36m10\u001b[0m\u001b[1;33m,\u001b[0m\u001b[1;36m6\u001b[0m\u001b[1;33m)\u001b[0m\u001b[1;33m)\u001b[0m\u001b[1;33m\u001b[0m\u001b[1;33m\u001b[0m\u001b[0m\n\u001b[0m\u001b[0;32m      2\u001b[0m \u001b[0mplt\u001b[0m\u001b[1;33m.\u001b[0m\u001b[0mscatter\u001b[0m\u001b[1;33m(\u001b[0m\u001b[0mdfx_trans\u001b[0m\u001b[1;33m[\u001b[0m\u001b[1;36m1\u001b[0m\u001b[1;33m]\u001b[0m\u001b[1;33m,\u001b[0m\u001b[0mdfx_trans\u001b[0m\u001b[1;33m[\u001b[0m\u001b[1;36m2\u001b[0m\u001b[1;33m]\u001b[0m\u001b[1;33m,\u001b[0m\u001b[0mc\u001b[0m\u001b[1;33m=\u001b[0m\u001b[0mdf\u001b[0m\u001b[1;33m[\u001b[0m\u001b[1;34m'Temp_up20'\u001b[0m\u001b[1;33m]\u001b[0m\u001b[1;33m,\u001b[0m\u001b[0medgecolors\u001b[0m\u001b[1;33m=\u001b[0m\u001b[1;34m'k'\u001b[0m\u001b[1;33m,\u001b[0m\u001b[0malpha\u001b[0m\u001b[1;33m=\u001b[0m\u001b[1;36m0.75\u001b[0m\u001b[1;33m,\u001b[0m\u001b[0ms\u001b[0m\u001b[1;33m=\u001b[0m\u001b[1;36m150\u001b[0m\u001b[1;33m)\u001b[0m\u001b[1;33m\u001b[0m\u001b[1;33m\u001b[0m\u001b[0m\n\u001b[0;32m      3\u001b[0m \u001b[0mplt\u001b[0m\u001b[1;33m.\u001b[0m\u001b[0mgrid\u001b[0m\u001b[1;33m(\u001b[0m\u001b[1;32mTrue\u001b[0m\u001b[1;33m)\u001b[0m\u001b[1;33m\u001b[0m\u001b[1;33m\u001b[0m\u001b[0m\n\u001b[0;32m      4\u001b[0m \u001b[0mplt\u001b[0m\u001b[1;33m.\u001b[0m\u001b[0mtitle\u001b[0m\u001b[1;33m(\u001b[0m\u001b[1;34m\"Class separation using first two principal components\\n\"\u001b[0m\u001b[1;33m,\u001b[0m\u001b[0mfontsize\u001b[0m\u001b[1;33m=\u001b[0m\u001b[1;36m20\u001b[0m\u001b[1;33m)\u001b[0m\u001b[1;33m\u001b[0m\u001b[1;33m\u001b[0m\u001b[0m\n\u001b[0;32m      5\u001b[0m \u001b[0mplt\u001b[0m\u001b[1;33m.\u001b[0m\u001b[0mxlabel\u001b[0m\u001b[1;33m(\u001b[0m\u001b[1;34m\"Principal component-1\"\u001b[0m\u001b[1;33m,\u001b[0m\u001b[0mfontsize\u001b[0m\u001b[1;33m=\u001b[0m\u001b[1;36m15\u001b[0m\u001b[1;33m)\u001b[0m\u001b[1;33m\u001b[0m\u001b[1;33m\u001b[0m\u001b[0m\n",
      "\u001b[1;31mNameError\u001b[0m: name 'plt' is not defined"
     ]
    }
   ],
   "source": [
    "plt.figure(figsize=(10,6))\n",
    "plt.scatter(dfx_trans[1],dfx_trans[2],c=df['Temp_up20'],edgecolors='k',alpha=0.75,s=150)\n",
    "plt.grid(True)\n",
    "plt.title(\"Class separation using first two principal components\\n\",fontsize=20)\n",
    "plt.xlabel(\"Principal component-1\",fontsize=15)\n",
    "plt.ylabel(\"Principal component-2\",fontsize=15)\n",
    "plt.show()"
   ]
  },
  {
   "cell_type": "code",
   "execution_count": 35,
   "metadata": {},
   "outputs": [
    {
     "data": {
      "text/html": [
       "<div>\n",
       "<style scoped>\n",
       "    .dataframe tbody tr th:only-of-type {\n",
       "        vertical-align: middle;\n",
       "    }\n",
       "\n",
       "    .dataframe tbody tr th {\n",
       "        vertical-align: top;\n",
       "    }\n",
       "\n",
       "    .dataframe thead th {\n",
       "        text-align: right;\n",
       "    }\n",
       "</style>\n",
       "<table border=\"1\" class=\"dataframe\">\n",
       "  <thead>\n",
       "    <tr style=\"text-align: right;\">\n",
       "      <th></th>\n",
       "      <th>Dataset</th>\n",
       "      <th>Temp_up20</th>\n",
       "      <th>Temp_low20</th>\n",
       "      <th>Ox_up20</th>\n",
       "      <th>Ox_low20</th>\n",
       "      <th>kf_up20</th>\n",
       "      <th>kf_low20</th>\n",
       "      <th>d10</th>\n",
       "      <th>dm</th>\n",
       "      <th>d84</th>\n",
       "      <th>Cu</th>\n",
       "      <th>Cc</th>\n",
       "      <th>Por</th>\n",
       "      <th>Fines</th>\n",
       "    </tr>\n",
       "  </thead>\n",
       "  <tbody>\n",
       "    <tr>\n",
       "      <th>0</th>\n",
       "      <td>Dec_19</td>\n",
       "      <td>5.4</td>\n",
       "      <td>5.2</td>\n",
       "      <td>97.0</td>\n",
       "      <td>96.4</td>\n",
       "      <td>0.00592</td>\n",
       "      <td>0.00267</td>\n",
       "      <td>2.9</td>\n",
       "      <td>80.3</td>\n",
       "      <td>98.9</td>\n",
       "      <td>20.1</td>\n",
       "      <td>2.0</td>\n",
       "      <td>18.7</td>\n",
       "      <td>6.0</td>\n",
       "    </tr>\n",
       "    <tr>\n",
       "      <th>1</th>\n",
       "      <td>Dec_19</td>\n",
       "      <td>4.6</td>\n",
       "      <td>5.0</td>\n",
       "      <td>94.9</td>\n",
       "      <td>91.1</td>\n",
       "      <td>0.00727</td>\n",
       "      <td>0.00056</td>\n",
       "      <td>2.0</td>\n",
       "      <td>70.0</td>\n",
       "      <td>84.3</td>\n",
       "      <td>21.0</td>\n",
       "      <td>1.9</td>\n",
       "      <td>18.8</td>\n",
       "      <td>7.4</td>\n",
       "    </tr>\n",
       "    <tr>\n",
       "      <th>2</th>\n",
       "      <td>Dec_19</td>\n",
       "      <td>3.6</td>\n",
       "      <td>4.5</td>\n",
       "      <td>83.3</td>\n",
       "      <td>31.1</td>\n",
       "      <td>0.00295</td>\n",
       "      <td>0.00021</td>\n",
       "      <td>0.4</td>\n",
       "      <td>50.1</td>\n",
       "      <td>94.6</td>\n",
       "      <td>150.6</td>\n",
       "      <td>32.3</td>\n",
       "      <td>17.9</td>\n",
       "      <td>10.5</td>\n",
       "    </tr>\n",
       "    <tr>\n",
       "      <th>3</th>\n",
       "      <td>Dec_19</td>\n",
       "      <td>4.4</td>\n",
       "      <td>4.8</td>\n",
       "      <td>85.5</td>\n",
       "      <td>47.2</td>\n",
       "      <td>0.00561</td>\n",
       "      <td>0.00103</td>\n",
       "      <td>0.5</td>\n",
       "      <td>37.4</td>\n",
       "      <td>62.3</td>\n",
       "      <td>73.9</td>\n",
       "      <td>8.9</td>\n",
       "      <td>13.7</td>\n",
       "      <td>15.2</td>\n",
       "    </tr>\n",
       "    <tr>\n",
       "      <th>4</th>\n",
       "      <td>Dec_19</td>\n",
       "      <td>3.4</td>\n",
       "      <td>4.3</td>\n",
       "      <td>36.1</td>\n",
       "      <td>1.7</td>\n",
       "      <td>0.00222</td>\n",
       "      <td>0.00064</td>\n",
       "      <td>0.9</td>\n",
       "      <td>37.0</td>\n",
       "      <td>69.5</td>\n",
       "      <td>44.0</td>\n",
       "      <td>4.1</td>\n",
       "      <td>16.7</td>\n",
       "      <td>10.3</td>\n",
       "    </tr>\n",
       "    <tr>\n",
       "      <th>5</th>\n",
       "      <td>Mar_20</td>\n",
       "      <td>6.7</td>\n",
       "      <td>6.7</td>\n",
       "      <td>107.5</td>\n",
       "      <td>73.7</td>\n",
       "      <td>0.00061</td>\n",
       "      <td>0.00061</td>\n",
       "      <td>0.5</td>\n",
       "      <td>56.5</td>\n",
       "      <td>99.1</td>\n",
       "      <td>120.4</td>\n",
       "      <td>32.9</td>\n",
       "      <td>16.9</td>\n",
       "      <td>12.8</td>\n",
       "    </tr>\n",
       "    <tr>\n",
       "      <th>6</th>\n",
       "      <td>Mar_20</td>\n",
       "      <td>6.1</td>\n",
       "      <td>6.1</td>\n",
       "      <td>107.7</td>\n",
       "      <td>79.6</td>\n",
       "      <td>0.00481</td>\n",
       "      <td>0.00062</td>\n",
       "      <td>0.9</td>\n",
       "      <td>37.8</td>\n",
       "      <td>73.6</td>\n",
       "      <td>42.3</td>\n",
       "      <td>4.9</td>\n",
       "      <td>16.6</td>\n",
       "      <td>10.1</td>\n",
       "    </tr>\n",
       "    <tr>\n",
       "      <th>7</th>\n",
       "      <td>Mar_20</td>\n",
       "      <td>5.8</td>\n",
       "      <td>5.8</td>\n",
       "      <td>92.5</td>\n",
       "      <td>86.2</td>\n",
       "      <td>0.00142</td>\n",
       "      <td>0.00026</td>\n",
       "      <td>0.4</td>\n",
       "      <td>29.4</td>\n",
       "      <td>55.9</td>\n",
       "      <td>72.0</td>\n",
       "      <td>6.1</td>\n",
       "      <td>15.7</td>\n",
       "      <td>13.4</td>\n",
       "    </tr>\n",
       "    <tr>\n",
       "      <th>8</th>\n",
       "      <td>Mar_20</td>\n",
       "      <td>8.7</td>\n",
       "      <td>8.5</td>\n",
       "      <td>104.8</td>\n",
       "      <td>105.0</td>\n",
       "      <td>0.01212</td>\n",
       "      <td>0.00800</td>\n",
       "      <td>3.5</td>\n",
       "      <td>63.0</td>\n",
       "      <td>113.2</td>\n",
       "      <td>18.8</td>\n",
       "      <td>3.1</td>\n",
       "      <td>7.5</td>\n",
       "      <td>5.1</td>\n",
       "    </tr>\n",
       "    <tr>\n",
       "      <th>9</th>\n",
       "      <td>Mar_20</td>\n",
       "      <td>9.5</td>\n",
       "      <td>9.7</td>\n",
       "      <td>112.8</td>\n",
       "      <td>93.0</td>\n",
       "      <td>0.00432</td>\n",
       "      <td>0.00019</td>\n",
       "      <td>2.4</td>\n",
       "      <td>44.9</td>\n",
       "      <td>90.1</td>\n",
       "      <td>20.6</td>\n",
       "      <td>2.2</td>\n",
       "      <td>0.2</td>\n",
       "      <td>6.8</td>\n",
       "    </tr>\n",
       "  </tbody>\n",
       "</table>\n",
       "</div>"
      ],
      "text/plain": [
       "  Dataset  Temp_up20  Temp_low20  Ox_up20  Ox_low20  kf_up20  kf_low20  d10  \\\n",
       "0  Dec_19        5.4         5.2     97.0      96.4  0.00592   0.00267  2.9   \n",
       "1  Dec_19        4.6         5.0     94.9      91.1  0.00727   0.00056  2.0   \n",
       "2  Dec_19        3.6         4.5     83.3      31.1  0.00295   0.00021  0.4   \n",
       "3  Dec_19        4.4         4.8     85.5      47.2  0.00561   0.00103  0.5   \n",
       "4  Dec_19        3.4         4.3     36.1       1.7  0.00222   0.00064  0.9   \n",
       "5  Mar_20        6.7         6.7    107.5      73.7  0.00061   0.00061  0.5   \n",
       "6  Mar_20        6.1         6.1    107.7      79.6  0.00481   0.00062  0.9   \n",
       "7  Mar_20        5.8         5.8     92.5      86.2  0.00142   0.00026  0.4   \n",
       "8  Mar_20        8.7         8.5    104.8     105.0  0.01212   0.00800  3.5   \n",
       "9  Mar_20        9.5         9.7    112.8      93.0  0.00432   0.00019  2.4   \n",
       "\n",
       "     dm    d84     Cu    Cc   Por  Fines  \n",
       "0  80.3   98.9   20.1   2.0  18.7    6.0  \n",
       "1  70.0   84.3   21.0   1.9  18.8    7.4  \n",
       "2  50.1   94.6  150.6  32.3  17.9   10.5  \n",
       "3  37.4   62.3   73.9   8.9  13.7   15.2  \n",
       "4  37.0   69.5   44.0   4.1  16.7   10.3  \n",
       "5  56.5   99.1  120.4  32.9  16.9   12.8  \n",
       "6  37.8   73.6   42.3   4.9  16.6   10.1  \n",
       "7  29.4   55.9   72.0   6.1  15.7   13.4  \n",
       "8  63.0  113.2   18.8   3.1   7.5    5.1  \n",
       "9  44.9   90.1   20.6   2.2   0.2    6.8  "
      ]
     },
     "execution_count": 35,
     "metadata": {},
     "output_type": "execute_result"
    }
   ],
   "source": [
    "df = pd.read_csv('C:/Users/Naung Naung/OneDrive/Desktop/WAREM/Hiwi/Sorted_Data_Inn.csv')\n",
    "df.head(10)"
   ]
  },
  {
   "cell_type": "code",
   "execution_count": 65,
   "metadata": {},
   "outputs": [
    {
     "name": "stdout",
     "output_type": "stream",
     "text": [
      "[[-0.66730287 -0.99855515  0.27532578  0.40630501  0.76466269  1.12848786\n",
      "   1.97272214  0.42231491 -0.99564181 -0.58272044  1.27721366 -1.20008697]\n",
      " [-1.1453706  -1.13268943  0.17695797  0.88465828 -0.44895574  0.38533732\n",
      "   1.27487309 -0.20935474 -0.97190116 -0.59363508  1.29659801 -0.74325628]\n",
      " [-1.74295527 -1.46802511 -0.36640709 -0.64607221 -0.65026685 -0.9358192\n",
      "  -0.07339836  0.23627522  2.44675238  2.72441513  1.12213881  0.26829739]\n",
      " [-1.26488754 -1.2668237  -0.2633551   0.29646092 -0.17862367 -0.85324692\n",
      "  -0.93385301 -1.16118573  0.42352146  0.17038964  0.30799587  1.80194328]\n",
      " [-1.8624722  -1.60215939 -2.57734079 -0.90473731 -0.40294177 -0.52295779\n",
      "  -0.96095394 -0.8496774  -0.36519567 -0.35351302  0.88952655  0.20303586]\n",
      " [ 0.10955719  0.0074519   0.76716485 -1.47521789 -0.42019701 -0.85324692\n",
      "   0.36021658  0.43096792  1.65012169  2.78990296  0.92829526  1.01880495]\n",
      " [-0.24899361 -0.39495092  0.77653321  0.01299231 -0.41444526 -0.52295779\n",
      "  -0.90675208 -0.67229072 -0.41003912 -0.26619591  0.87014219  0.13777434]\n",
      " [-0.42826901 -0.59615233  0.06453761 -1.18820592 -0.62150812 -0.9358192\n",
      "  -1.47587169 -1.43808201  0.37340232 -0.13522025  0.69568299  1.21458954]\n",
      " [ 1.30472651  1.21466037  0.64069194  2.60318673  3.83034335  1.62392155\n",
      "   0.80060675  1.04100505 -1.02993386 -0.46265941 -0.89383418 -1.49376385]\n",
      " [ 1.78279425  2.01946602  1.01542647 -0.16063221 -0.66177034  0.71562645\n",
      "  -0.4257105   0.04158252 -0.98245256 -0.56089116 -2.30889215 -0.93904087]\n",
      " [ 0.46810799  0.34278759  0.92642702  0.27520077 -0.51222494 -0.19266866\n",
      "   1.15291889  1.25733027  1.3019255  -0.39717158 -0.91321854  0.43145121]\n",
      " [ 1.06569265  1.14759324  1.08568919  1.25671083 -0.18437542  0.63305416\n",
      "   1.417153    2.5509551  -0.54193162 -0.54997652 -0.93260289 -0.5474717 ]\n",
      " [ 0.34859105  0.20865332  0.48611395 -0.713396    0.42530967  2.28449981\n",
      "   0.48894601  0.67757867 -1.07213946 -0.5718058  -0.54491578 -1.72217919]\n",
      " [ 0.22907412  0.20865332  0.48611395  0.76418413 -0.28790685  1.21106014\n",
      "   0.23826238  0.56508956 -0.92441986 -0.50631797 -0.69999062 -1.20008697]\n",
      " [ 0.28883259  0.34278759 -1.95434464 -0.05433148  0.14347411 -0.85324692\n",
      "  -0.29020583 -0.78910634  0.74533916  0.17038964 -0.06030688  0.72512808]\n",
      " [ 0.28883259  0.27572045  0.17227379 -0.66378899 -0.39719002 -0.85324692\n",
      "  -0.5070133  -0.58576063  0.38131587 -0.33168375 -0.29291915  0.79038961]\n",
      " [ 1.06569265  1.14759324 -0.31488109  0.62953654  0.0917084  -0.85324692\n",
      "  -1.55717449 -1.42077599 -0.09877283 -0.27711055  0.48245508  0.92091266]\n",
      " [ 0.40834952  0.543989   -1.39692703 -1.32285351 -0.07509224 -0.60553007\n",
      "  -0.57476564 -0.09686563  0.07004957 -0.26619591 -1.22336823  0.33355892]]\n"
     ]
    }
   ],
   "source": [
    "from sklearn.preprocessing import StandardScaler\n",
    "inndata = ['Temp_up20','Temp_low20','Ox_up20','kf_up20','kf_low20','d10','dm','d84','Cu','Cc','Por','Fines']\n",
    "# Separating out the features\n",
    "x = df.loc[:, inndata].values\n",
    "# Separating out the target\n",
    "y = df.loc[:,['Dataset']].values\n",
    "# Standardizing the features\n",
    "x = StandardScaler().fit_transform(x)\n",
    "print(x)"
   ]
  },
  {
   "cell_type": "code",
   "execution_count": 62,
   "metadata": {},
   "outputs": [],
   "source": [
    "from sklearn.decomposition import PCA\n",
    "pca = PCA(n_components=2)\n",
    "principalComponents = pca.fit_transform(x)\n",
    "principalDf = pd.DataFrame(data = principalComponents\n",
    "             , columns = ['principal component 1', 'principal component 2'])"
   ]
  },
  {
   "cell_type": "code",
   "execution_count": 63,
   "metadata": {},
   "outputs": [],
   "source": [
    "finalDf = pd.concat([principalDf, df[['Dataset']]], axis = 1)"
   ]
  },
  {
   "cell_type": "code",
   "execution_count": 64,
   "metadata": {},
   "outputs": [
    {
     "data": {
      "image/png": "[encoded data removed]",
      "text/plain": [
       "<Figure size 576x576 with 1 Axes>"
      ]
     },
     "metadata": {
      "needs_background": "light"
     },
     "output_type": "display_data"
    }
   ],
   "source": [
    "fig = plt.figure(figsize = (8,8))\n",
    "ax = fig.add_subplot(1,1,1) \n",
    "ax.set_xlabel('Principal Component 1', fontsize = 15)\n",
    "ax.set_ylabel('Principal Component 2', fontsize = 15)\n",
    "ax.set_title('2 component PCA', fontsize = 20)\n",
    "Dataset = ['Iris-setosa', 'Iris-versicolor', 'Iris-virginica']\n",
    "colors = ['r', 'g', 'b']\n",
    "for Dataset, color in zip(Dataset,colors):\n",
    "    indicesToKeep = finalDf['Dataset'] == Dataset\n",
    "    ax.scatter(finalDf.loc[indicesToKeep, 'principal component 1']\n",
    "               , finalDf.loc[indicesToKeep, 'principal component 2']\n",
    "               , c = color\n",
    "               , s = 50)\n",
    "ax.legend(Dataset)\n",
    "ax.grid()"
   ]
  },
  {
   "cell_type": "code",
   "execution_count": null,
   "metadata": {},
   "outputs": [],
   "source": []
  }
 ],
 "metadata": {
  "kernelspec": {
   "display_name": "Python 3 (ipykernel)",
   "language": "python",
   "name": "python3"
  },
  "language_info": {
   "codemirror_mode": {
    "name": "ipython",
    "version": 3
   },
   "file_extension": ".py",
   "mimetype": "text/x-python",
   "name": "python",
   "nbconvert_exporter": "python",
   "pygments_lexer": "ipython3",
   "version": "3.9.7"
  }
 },
 "nbformat": 4,
 "nbformat_minor": 2
}
